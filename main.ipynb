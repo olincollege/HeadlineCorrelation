{
 "cells": [
  {
   "cell_type": "markdown",
   "id": "5d153c1b-32f3-45ac-b859-08c144b3f04c",
   "metadata": {},
   "source": [
    "## News :D\n",
    "\n"
   ]
  },
  {
   "cell_type": "code",
   "execution_count": 42,
   "id": "8384fd32",
   "metadata": {},
   "outputs": [
    {
     "name": "stdout",
     "output_type": "stream",
     "text": [
      "The autoreload extension is already loaded. To reload it, use:\n",
      "  %reload_ext autoreload\n"
     ]
    }
   ],
   "source": [
    "%load_ext autoreload\n",
    "%autoreload 2\n",
    "\n",
    "import requests\n",
    "import re\n",
    "import itertools\n",
    "from bs4 import BeautifulSoup"
   ]
  },
  {
   "cell_type": "markdown",
   "id": "7b60b2c9",
   "metadata": {},
   "source": [
    "Installs:\n",
    "lxmn\n",
    "bs4"
   ]
  },
  {
   "cell_type": "code",
   "execution_count": 53,
   "id": "a299259c",
   "metadata": {},
   "outputs": [],
   "source": [
    "months = ['January', 'February','March','April','May','June','July','August','September','October','November','December']\n",
    "\n",
    "\n",
    "# CNN\n",
    "grouped_cnn_links = [[f'https://www.cnn.com/article/sitemap-{i}-{j}.html' for j in range(1,13)] for i in range(2014, 2025)]\n",
    "cnn_links = list(itertools.chain.from_iterable(grouped_cnn_links))\n",
    "cnn_dict = dict([(i+2014, list) for i, list in enumerate(grouped_cnn_links)])\n",
    "\n",
    "\n",
    "\n",
    "# New York Times\n",
    "grouped_nyt_links = [[f'https://www.nytimes.com/sitemap/{i}/{str(j).zfill(2)}/' for j in range(1,13)] for i in range(2014, 2025)]\n",
    "nyt_links = list(itertools.chain.from_iterable(grouped_nyt_links))\n",
    "nyt_dict = dict([(i+2014, list) for i, list in enumerate(grouped_nyt_links)])\n",
    "\n",
    "\n",
    "\n",
    "# Business Insider\n",
    "grouped_bi_links = [[f'https://www.businessinsider.com/sitemap/html/{i}-{j}.html' for j in range(1,13)] for i in range(2014, 2025)]\n",
    "bi_links = list(itertools.chain.from_iterable(grouped_bi_links))\n",
    "bi_dict = dict([(i+2014, list) for i, list in enumerate(grouped_bi_links)])\n",
    "\n",
    "\n",
    "\n",
    "# The Hill\n",
    "grouped_th_links = [[f'https://thehill.com/sitemap/{i}/{j}' for j in months] for i in range(2014, 2025)]\n",
    "th_links = list(itertools.chain.from_iterable(grouped_th_links))\n",
    "th_dict = dict([(i+2014, list) for i, list in enumerate(grouped_th_links)])\n",
    "\n",
    "\n",
    "\n",
    "# New York Post\n",
    "grouped_nyp_links = [[f'https://nypost.com/{i}/{str(j).zfill(2)}/' for j in range(1,13)] for i in range(2014, 2025)]\n",
    "nyp_links = list(itertools.chain.from_iterable(grouped_nyp_links))\n",
    "nyp_dict = dict([(i+2014, list) for i, list in enumerate(grouped_nyp_links)])\n",
    "\n",
    "\n",
    "\n",
    "# Daily Mail\n",
    "grouped_dm_links = [[f'https://www.dailymail.co.uk/home/sitemaparchive/month_{i}{str(j).zfill(2)}/.html' for j in range(1,13)] for i in range(2014, 2025)]\n",
    "dm_links = list(itertools.chain.from_iterable(grouped_dm_links))\n",
    "dm_dict = dict([(i+2014, list) for i, list in enumerate(grouped_dm_links)])\n",
    "\n",
    "\n",
    "\n",
    "# Fox\n",
    "fox_links = ['https://www.foxnews.com/sitemap.xml?type=articles'] + [f'https://www.foxnews.com/sitemap.xml?type=articles&page={i}' for i in range(2, 161)]"
   ]
  }
 ],
 "metadata": {
  "kernelspec": {
   "display_name": "Python 3",
   "language": "python",
   "name": "python3"
  },
  "language_info": {
   "codemirror_mode": {
    "name": "ipython",
    "version": 3
   },
   "file_extension": ".py",
   "mimetype": "text/x-python",
   "name": "python",
   "nbconvert_exporter": "python",
   "pygments_lexer": "ipython3",
   "version": "3.10.12"
  }
 },
 "nbformat": 4,
 "nbformat_minor": 5
}
