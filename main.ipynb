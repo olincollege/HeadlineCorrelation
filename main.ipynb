{
 "cells": [
  {
   "cell_type": "markdown",
   "id": "5d153c1b-32f3-45ac-b859-08c144b3f04c",
   "metadata": {},
   "source": [
    "## News :D\n",
    "\n"
   ]
  },
  {
   "cell_type": "code",
   "execution_count": 42,
   "id": "8384fd32",
   "metadata": {},
   "outputs": [
    {
     "name": "stdout",
     "output_type": "stream",
     "text": [
      "The autoreload extension is already loaded. To reload it, use:\n",
      "  %reload_ext autoreload\n"
     ]
    }
   ],
   "source": [
    "%load_ext autoreload\n",
    "%autoreload 2\n",
    "\n",
    "import requests\n",
    "import re\n",
    "import itertools\n",
    "from bs4 import BeautifulSoup"
   ]
  },
  {
   "cell_type": "markdown",
   "id": "7b60b2c9",
   "metadata": {},
   "source": [
    "Installs:\n",
    "lxmn\n",
    "bs4"
   ]
  },
  {
   "cell_type": "code",
   "execution_count": null,
   "id": "272f181e",
   "metadata": {},
   "outputs": [
    {
     "name": "stdout",
     "output_type": "stream",
     "text": [
      "{2014: ['https://www.cnn.com/article/sitemap-2014-1.html', 'https://www.cnn.com/article/sitemap-2014-2.html', 'https://www.cnn.com/article/sitemap-2014-3.html', 'https://www.cnn.com/article/sitemap-2014-4.html', 'https://www.cnn.com/article/sitemap-2014-5.html', 'https://www.cnn.com/article/sitemap-2014-6.html', 'https://www.cnn.com/article/sitemap-2014-7.html', 'https://www.cnn.com/article/sitemap-2014-8.html', 'https://www.cnn.com/article/sitemap-2014-9.html', 'https://www.cnn.com/article/sitemap-2014-10.html', 'https://www.cnn.com/article/sitemap-2014-11.html', 'https://www.cnn.com/article/sitemap-2014-12.html'], 2015: ['https://www.cnn.com/article/sitemap-2015-1.html', 'https://www.cnn.com/article/sitemap-2015-2.html', 'https://www.cnn.com/article/sitemap-2015-3.html', 'https://www.cnn.com/article/sitemap-2015-4.html', 'https://www.cnn.com/article/sitemap-2015-5.html', 'https://www.cnn.com/article/sitemap-2015-6.html', 'https://www.cnn.com/article/sitemap-2015-7.html', 'https://www.cnn.com/article/sitemap-2015-8.html', 'https://www.cnn.com/article/sitemap-2015-9.html', 'https://www.cnn.com/article/sitemap-2015-10.html', 'https://www.cnn.com/article/sitemap-2015-11.html', 'https://www.cnn.com/article/sitemap-2015-12.html'], 2016: ['https://www.cnn.com/article/sitemap-2016-1.html', 'https://www.cnn.com/article/sitemap-2016-2.html', 'https://www.cnn.com/article/sitemap-2016-3.html', 'https://www.cnn.com/article/sitemap-2016-4.html', 'https://www.cnn.com/article/sitemap-2016-5.html', 'https://www.cnn.com/article/sitemap-2016-6.html', 'https://www.cnn.com/article/sitemap-2016-7.html', 'https://www.cnn.com/article/sitemap-2016-8.html', 'https://www.cnn.com/article/sitemap-2016-9.html', 'https://www.cnn.com/article/sitemap-2016-10.html', 'https://www.cnn.com/article/sitemap-2016-11.html', 'https://www.cnn.com/article/sitemap-2016-12.html'], 2017: ['https://www.cnn.com/article/sitemap-2017-1.html', 'https://www.cnn.com/article/sitemap-2017-2.html', 'https://www.cnn.com/article/sitemap-2017-3.html', 'https://www.cnn.com/article/sitemap-2017-4.html', 'https://www.cnn.com/article/sitemap-2017-5.html', 'https://www.cnn.com/article/sitemap-2017-6.html', 'https://www.cnn.com/article/sitemap-2017-7.html', 'https://www.cnn.com/article/sitemap-2017-8.html', 'https://www.cnn.com/article/sitemap-2017-9.html', 'https://www.cnn.com/article/sitemap-2017-10.html', 'https://www.cnn.com/article/sitemap-2017-11.html', 'https://www.cnn.com/article/sitemap-2017-12.html'], 2018: ['https://www.cnn.com/article/sitemap-2018-1.html', 'https://www.cnn.com/article/sitemap-2018-2.html', 'https://www.cnn.com/article/sitemap-2018-3.html', 'https://www.cnn.com/article/sitemap-2018-4.html', 'https://www.cnn.com/article/sitemap-2018-5.html', 'https://www.cnn.com/article/sitemap-2018-6.html', 'https://www.cnn.com/article/sitemap-2018-7.html', 'https://www.cnn.com/article/sitemap-2018-8.html', 'https://www.cnn.com/article/sitemap-2018-9.html', 'https://www.cnn.com/article/sitemap-2018-10.html', 'https://www.cnn.com/article/sitemap-2018-11.html', 'https://www.cnn.com/article/sitemap-2018-12.html'], 2019: ['https://www.cnn.com/article/sitemap-2019-1.html', 'https://www.cnn.com/article/sitemap-2019-2.html', 'https://www.cnn.com/article/sitemap-2019-3.html', 'https://www.cnn.com/article/sitemap-2019-4.html', 'https://www.cnn.com/article/sitemap-2019-5.html', 'https://www.cnn.com/article/sitemap-2019-6.html', 'https://www.cnn.com/article/sitemap-2019-7.html', 'https://www.cnn.com/article/sitemap-2019-8.html', 'https://www.cnn.com/article/sitemap-2019-9.html', 'https://www.cnn.com/article/sitemap-2019-10.html', 'https://www.cnn.com/article/sitemap-2019-11.html', 'https://www.cnn.com/article/sitemap-2019-12.html'], 2020: ['https://www.cnn.com/article/sitemap-2020-1.html', 'https://www.cnn.com/article/sitemap-2020-2.html', 'https://www.cnn.com/article/sitemap-2020-3.html', 'https://www.cnn.com/article/sitemap-2020-4.html', 'https://www.cnn.com/article/sitemap-2020-5.html', 'https://www.cnn.com/article/sitemap-2020-6.html', 'https://www.cnn.com/article/sitemap-2020-7.html', 'https://www.cnn.com/article/sitemap-2020-8.html', 'https://www.cnn.com/article/sitemap-2020-9.html', 'https://www.cnn.com/article/sitemap-2020-10.html', 'https://www.cnn.com/article/sitemap-2020-11.html', 'https://www.cnn.com/article/sitemap-2020-12.html'], 2021: ['https://www.cnn.com/article/sitemap-2021-1.html', 'https://www.cnn.com/article/sitemap-2021-2.html', 'https://www.cnn.com/article/sitemap-2021-3.html', 'https://www.cnn.com/article/sitemap-2021-4.html', 'https://www.cnn.com/article/sitemap-2021-5.html', 'https://www.cnn.com/article/sitemap-2021-6.html', 'https://www.cnn.com/article/sitemap-2021-7.html', 'https://www.cnn.com/article/sitemap-2021-8.html', 'https://www.cnn.com/article/sitemap-2021-9.html', 'https://www.cnn.com/article/sitemap-2021-10.html', 'https://www.cnn.com/article/sitemap-2021-11.html', 'https://www.cnn.com/article/sitemap-2021-12.html'], 2022: ['https://www.cnn.com/article/sitemap-2022-1.html', 'https://www.cnn.com/article/sitemap-2022-2.html', 'https://www.cnn.com/article/sitemap-2022-3.html', 'https://www.cnn.com/article/sitemap-2022-4.html', 'https://www.cnn.com/article/sitemap-2022-5.html', 'https://www.cnn.com/article/sitemap-2022-6.html', 'https://www.cnn.com/article/sitemap-2022-7.html', 'https://www.cnn.com/article/sitemap-2022-8.html', 'https://www.cnn.com/article/sitemap-2022-9.html', 'https://www.cnn.com/article/sitemap-2022-10.html', 'https://www.cnn.com/article/sitemap-2022-11.html', 'https://www.cnn.com/article/sitemap-2022-12.html'], 2023: ['https://www.cnn.com/article/sitemap-2023-1.html', 'https://www.cnn.com/article/sitemap-2023-2.html', 'https://www.cnn.com/article/sitemap-2023-3.html', 'https://www.cnn.com/article/sitemap-2023-4.html', 'https://www.cnn.com/article/sitemap-2023-5.html', 'https://www.cnn.com/article/sitemap-2023-6.html', 'https://www.cnn.com/article/sitemap-2023-7.html', 'https://www.cnn.com/article/sitemap-2023-8.html', 'https://www.cnn.com/article/sitemap-2023-9.html', 'https://www.cnn.com/article/sitemap-2023-10.html', 'https://www.cnn.com/article/sitemap-2023-11.html', 'https://www.cnn.com/article/sitemap-2023-12.html'], 2024: ['https://www.cnn.com/article/sitemap-2024-1.html', 'https://www.cnn.com/article/sitemap-2024-2.html', 'https://www.cnn.com/article/sitemap-2024-3.html', 'https://www.cnn.com/article/sitemap-2024-4.html', 'https://www.cnn.com/article/sitemap-2024-5.html', 'https://www.cnn.com/article/sitemap-2024-6.html', 'https://www.cnn.com/article/sitemap-2024-7.html', 'https://www.cnn.com/article/sitemap-2024-8.html', 'https://www.cnn.com/article/sitemap-2024-9.html', 'https://www.cnn.com/article/sitemap-2024-10.html', 'https://www.cnn.com/article/sitemap-2024-11.html', 'https://www.cnn.com/article/sitemap-2024-12.html']}\n",
      "['https://www.cnn.com/article/sitemap-2014-1.html', 'https://www.cnn.com/article/sitemap-2014-2.html', 'https://www.cnn.com/article/sitemap-2014-3.html', 'https://www.cnn.com/article/sitemap-2014-4.html', 'https://www.cnn.com/article/sitemap-2014-5.html', 'https://www.cnn.com/article/sitemap-2014-6.html', 'https://www.cnn.com/article/sitemap-2014-7.html', 'https://www.cnn.com/article/sitemap-2014-8.html', 'https://www.cnn.com/article/sitemap-2014-9.html', 'https://www.cnn.com/article/sitemap-2014-10.html', 'https://www.cnn.com/article/sitemap-2014-11.html', 'https://www.cnn.com/article/sitemap-2014-12.html']\n"
     ]
    }
   ],
   "source": [
    "months = ['January', 'February','March','April','May','June','July','August','September','October','November','December']\n",
    "\n",
    "grouped_cnn_links = [[f'https://www.cnn.com/article/sitemap-{i}-{j}.html' for j in range(1,13)] for i in range(2014, 2025)]\n",
    "dict_cnn = dict([(i+2014, list) for i, list in enumerate(grouped_cnn_links)])\n",
    "print(dict_cnn)\n",
    "\n",
    "\n",
    "nyt_links = []\n",
    "for i in range(2014, 2025):\n",
    "    for j in range(1, 13):\n",
    "        nyt_links.append(f'https://www.nytimes.com/sitemap/{i}/{str(j).zfill(2)}/')\n",
    "grouped_nyt_links = [[f'https://www.nytimes.com/sitemap/{i}/{str(j).zfill(2)}/' for j in range(1,13)] for i in range(2014, 2025)]\n",
    "#print('New York Times Links: ' + str(nyt_links))\n",
    "\n",
    "\n",
    "bi_links = []\n",
    "for i in range(2014, 2025):\n",
    "    for j in range(1, 13):\n",
    "        bi_links.append(f'https://www.businessinsider.com/sitemap/html/{i}-{j}.html')\n",
    "grouped_bi_links = [[f'https://www.businessinsider.com/sitemap/html/{i}-{j}.html' for j in range(1,13)] for i in range(2014, 2025)]\n",
    "#print('Business Insider Links: ' + str(bi_links))\n",
    "\n",
    "\n",
    "th_links = []\n",
    "for i in range(2014, 2025):\n",
    "    for j in months:\n",
    "        th_links.append(f'https://thehill.com/sitemap/{i}/{j}')\n",
    "grouped_th_links = [[f'https://thehill.com/sitemap/{i}/{j}' for j in months] for i in range(2014, 2025)]\n",
    "#print('The Hill Links: ' + str(th_links))\n",
    "\n",
    "\n",
    "nyp_links = []\n",
    "for i in range(2014, 2025):\n",
    "    for j in range(1,13):\n",
    "        nyp_links.append(f'https://nypost.com/{i}/{str(j).zfill(2)}/')\n",
    "grouped_nyp_links = [[f'https://nypost.com/{i}/{str(j).zfill(2)}/' for j in range(1,13)] for i in range(2014, 2025)]\n",
    "#print('New York Post Links: ' + str(nyp_links))\n",
    "\n",
    "\n",
    "dm_links = []\n",
    "for i in range(2014, 2025):\n",
    "    for j in range(1,13):\n",
    "        dm_links.append(f'https://www.dailymail.co.uk/home/sitemaparchive/month_{i}{str(j).zfill(2)}/.html')\n",
    "grouped_dm_links = [[f'https://www.dailymail.co.uk/home/sitemaparchive/month_{i}{str(j).zfill(2)}/.html' for j in range(1,13)] for i in range(2014, 2025)]\n",
    "#print('Daily Mail Links: ' + str(dm_links))\n",
    "\n",
    "\n",
    "fox_links = ['https://www.foxnews.com/sitemap.xml?type=articles'] + [f'https://www.foxnews.com/sitemap.xml?type=articles&page={i}' for i in range(2, 161)]\n",
    "#print('FOX Links: ' + str(fox_links))"
   ]
  }
 ],
 "metadata": {
  "kernelspec": {
   "display_name": "Python 3",
   "language": "python",
   "name": "python3"
  },
  "language_info": {
   "codemirror_mode": {
    "name": "ipython",
    "version": 3
   },
   "file_extension": ".py",
   "mimetype": "text/x-python",
   "name": "python",
   "nbconvert_exporter": "python",
   "pygments_lexer": "ipython3",
   "version": "3.10.12"
  }
 },
 "nbformat": 4,
 "nbformat_minor": 5
}
