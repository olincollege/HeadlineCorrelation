{
 "cells": [
  {
   "cell_type": "markdown",
   "id": "5d153c1b-32f3-45ac-b859-08c144b3f04c",
   "metadata": {},
   "source": [
    "## News :D\n",
    "\n"
   ]
  },
  {
   "cell_type": "code",
   "execution_count": 4,
   "id": "8384fd32",
   "metadata": {},
   "outputs": [
    {
     "name": "stdout",
     "output_type": "stream",
     "text": [
      "The autoreload extension is already loaded. To reload it, use:\n",
      "  %reload_ext autoreload\n"
     ]
    }
   ],
   "source": [
    "%load_ext autoreload\n",
    "%autoreload 2\n",
    "\n",
    "import requests\n",
    "import re \n",
    "import itertools\n",
    "from bs4 import BeautifulSoup # Imports bs4\n",
    "import wget # Imports wget\n",
    "import articles\n",
    "import sitemaps"
   ]
  },
  {
   "cell_type": "markdown",
   "id": "7b60b2c9",
   "metadata": {},
   "source": [
    "# Data\n",
    "\n",
    "### Data formats\n",
    "\n",
    "CNN has links by month\n",
    "\n",
    "NYT has links by day\n",
    "\n",
    "BI has links by month\n",
    "\n",
    "TH has links by day\n",
    "\n",
    "NYP has links by day\n",
    "\n",
    "DM has links by day\n",
    "\n",
    "Fox has links by page num\n",
    "\n",
    "### Thoughts on how to organize the data \n",
    "\n",
    "we use a pandas dataframe organized like this\n",
    "\n",
    "| Dates | CNN | NYT | BI | TH | NYP | DM | FOX |\n",
    "| ----------- | ------------------------------------------ | ------- | ------- | ------- | ------- | ------- | ------- |\n",
    "| 2014-01-01  | list of tuples with article link & title   | ... | ... | ... | ... | ... | ... |\n",
    "| 2014-01-02  | ... | ... | ... | ... | ... | ... | ... |\n",
    "| 2014-01-03  | ... | ... | ... | ... | ... | ... | ... |\n",
    "| 2014-01-04  | ... | ... | ... | ... | ... | ... | ... |\n",
    "| ...         | ... | ... | ... | ... | ... | ... | ... |\n",
    "| 2024-12-31  | ... | ... | ... | ... | ... | ... | ... |"
   ]
  },
  {
   "cell_type": "markdown",
   "id": "b569767c",
   "metadata": {},
   "source": [
    "### Code to get data\n",
    "CNN:\n",
    "```html\n",
    "<li>\n",
    "    <span class=\"date\">2024-01-31</span>\n",
    "    <span class=\"sitemap-link\">\n",
    "        <a href=\"https://www.cnn.com/tech/live-news/meta-x-discord-tiktok-snap-chiefs-testimony-senate/index.html\">\n",
    "            Mark Zuckerberg apologizes to families over social media harms in contentious Senate hearing\n",
    "        </a>\n",
    "    </span>\n",
    "</li>\n",
    "```\n",
    "\n",
    "NYT:\n",
    "```html\n",
    "<li>\n",
    "    <a href=\"https://www.nytimes.com/2023/12/31/business/dealbook/pga-tour-saudi-deal-deadline.html\">\n",
    "        PGA Tour and Saudi-Backed LIV Extend Deadline to Finalize Deal\n",
    "    </a>\n",
    "</li>\n",
    "```\n",
    "\n",
    "BI:\n",
    "```html\n",
    "<p>\n",
    "    <a href=\"https://www.businessinsider.com/feud-capote-vs-swans-ann-woodward-suicide-death-real-story-2024-1\">\n",
    "        The real story behind the suicide of American socialite Ann Woodward in &#39;Feud: Capote vs. The Swans&#39;\n",
    "    </a>\n",
    "    <br>2024-02-01T03:31:01.68Z\n",
    "</p>\n",
    "```\n",
    "\n",
    "NYP:\n",
    "```html\n",
    "<h3 class=\"story__headline headline headline--archive\">\n",
    "    <a href=\"https://nypost.com/2024/01/01/sports/og-anunoby-trending-toward-the-perfect-piece-for-knicks/\" rel=\"\" target=\"_self\">\n",
    "\t\tKnicks&#039; big trade acquisition already looks like the &#039;perfect fit&#039; \t\t\t\t\t\t\t\t\t\t\t\t\n",
    "    </a>\n",
    "</h3>\n",
    "```\n",
    "\n",
    "DM:\n",
    "```html\n",
    "<a href=\"/wires/ap/article-12917573/Christian-McCaffrey-miss-49ers-regular-season-finale-return-playoffs.html\" title=\"\">\n",
    "    Christian McCaffrey will miss the 49ers regular-season finale but should return for playoffs\n",
    "</a>\n",
    "```\n",
    "\n",
    "FOX:\n",
    "```html\n",
    "<loc>\n",
    "    https://www.foxnews.com/opinion/why-the-department-of-education-is-going-to-rip\n",
    "</loc>\n",
    "<lastmod>\n",
    "    2025-03-12T05:00:54-04:00\n",
    "</lastmod>\n",
    "```"
   ]
  },
  {
   "cell_type": "code",
   "execution_count": 12,
   "id": "0573d3c7",
   "metadata": {},
   "outputs": [],
   "source": [
    "[cnn_dict, nyt_dict, bi_dict, nyp_dict, dm_dict, fox_links] = sitemaps.sitemaps()"
   ]
  },
  {
   "cell_type": "code",
   "execution_count": null,
   "id": "e6073922",
   "metadata": {},
   "outputs": [
    {
     "name": "stdout",
     "output_type": "stream",
     "text": [
      "[('Georgia Downs Ohio State in Semifinal on Last-Minute Touchdown', 'https://www.nytimes.com/2023/01/01/sports/ncaafootball/peach-bowl-georgia-ohio-state.html'), ('The First Afterlife of Pope Benedict XVI', 'https://www.nytimes.com/2023/01/01/opinion/pope-benedict-xvi-catholic-church.html'), ('Quotation of the Day: ‘Today Girl’ to TV Icon, Walters Traversed News and Celebrity', 'https://www.nytimes.com/2023/01/01/pageoneplus/quotation-of-the-day-today-girl-to-tv-icon-walters-traversed-news-and-celebrity.html'), ('No Corrections: Jan. 1, 2023', 'https://www.nytimes.com/2023/01/01/pageoneplus/no-corrections-jan-1-2023.html'), ('Spelling Bee Answers: Sunday, January 1, 2022', 'https://www.nytimes.com/2023/01/01/crosswords/spelling-bee-forum.html'), ('What Should You Do Differently in 2023? Try Taking Suggestions.', 'https://www.nytimes.com/2023/01/01/style/resolutions-suggestions-advice.html'), ('‘Suddenly, It Appeared as Though the Bus Was Going to Be Able to Move’', 'https://www.nytimes.com/2023/01/01/nyregion/metropolitan-diary.html'), ('Veterans Trickle Through a Special New York Court Known Only to a Few', 'https://www.nytimes.com/2023/01/01/nyregion/new-york-veterans-court.html'), ('Eric Adams Said He Wanted to ‘Get Stuff Done.’ Did He?', 'https://www.nytimes.com/2023/01/01/nyregion/eric-adams-mayor.html'), ('Education Dept. Logs Record Number of Discrimination Complaints', 'https://www.nytimes.com/2023/01/01/us/politics/education-discrimination.html'), ('‘OK, Mexico, Save Me’: After China, This Is Where Globalization May Lead', 'https://www.nytimes.com/2023/01/01/business/mexico-china-us-trade.html'), ('Three Injured in Machete Attack on Police Near Times Square ', 'https://www.nytimes.com/2023/01/01/nyregion/times-square-machete-attack.html'), ('North Korea Vows to Escalate Nuclear Threat Against the South', 'https://www.nytimes.com/2023/01/01/world/asia/north-korea-nuclear-escalate.html'), ('Book Review: ‘Brotherless Night,’ by V. V. Ganeshananthan', 'https://www.nytimes.com/2023/01/01/books/review/v-v-ganeshananthan-brotherless-night.html'), ('Low-Down-Payment Mortgages: Your 2023 Guide', 'https://www.nytimes.com/2023/01/01/your-money/low-down-payment-mortgages.html'), ('A New Puzzle Turns Earth Into a Rubik’s Cube, but More Complex', 'https://www.nytimes.com/2023/01/01/science/puzzles-math-segerman.html'), ('10 Things Our Critics Are Looking Forward to in 2023', 'https://www.nytimes.com/2023/01/01/arts/tv-movies-music-picks-2023.html'), ('U.S. Pours Money Into Chips, but Even Soaring Spending Has Limits', 'https://www.nytimes.com/2023/01/01/technology/us-chip-making-china-invest.html'), ('How Central Ohio Got People to Eat Their Leftovers', 'https://www.nytimes.com/2023/01/01/headway/composting-food-leftovers.html'), ('The Week in Business: Southwest’s Holiday Meltdown', 'https://www.nytimes.com/2023/01/01/business/the-week-in-business-southwest-canceled-flights.html'), ('How to Have a Happier New Year', 'https://www.nytimes.com/2023/01/01/briefing/new-year-resolutions-happiness.html'), ('‘Don’t Make Me Over’: Dionne Warwick’s Documentary Encore', 'https://www.nytimes.com/2023/01/01/movies/dionne-warwick-dont-make-me-over.html'), ('Robert Caro Relaxes by Listening to People Drum in Central Park', 'https://www.nytimes.com/2023/01/01/movies/robert-caro-turn-every-page-documentary.html'), ('Ex-Nurse Recorded Himself Sexually Assaulting Patients, Police Say', 'https://www.nytimes.com/2023/01/01/us/nurse-arrested-sexual-abuse-colorado.html'), ('Jailed Putin Critics in Russia Offer New Year Messages', 'https://www.nytimes.com/2023/01/01/world/europe/putin-critics-russia-new-year-messages.html'), ('Don’t Honor Those With a Nazi History', 'https://www.nytimes.com/2023/01/01/opinion/letters/honoring-former-nazis.html'), ('Rabbi Haim Druckman, a Leader of Religious Zionism, Dies at 90', 'https://www.nytimes.com/2023/01/01/obituaries/haim-druckman-dead.html'), ('What to Cook This Week', 'https://www.nytimes.com/2023/01/01/dining/what-to-cook-this-week.html'), ('Why India and China Are Fighting in the Himalayas', 'https://www.nytimes.com/2023/01/01/opinion/india-china-himalayas.html'), ('Forget the Beach Bod. Try These Soul Resolutions Instead.', 'https://www.nytimes.com/2023/01/01/opinion/soul-resolutions-new-year.html'), ('Being Short is Better Than We’re Told', 'https://www.nytimes.com/2023/01/01/opinion/height-short.html'), ('The U.S. Should Define Russia’s Red Lines ', 'https://www.nytimes.com/2023/01/01/opinion/putin-russia-ukraine-war-strategy.html'), ('Lula Becomes Brazil’s President, With Bolsonaro in Florida', 'https://www.nytimes.com/2023/01/01/world/americas/bolsonaro-florida-brazil.html'), ('Retiring Congress Members See Rough Roads Ahead', 'https://www.nytimes.com/2023/01/01/us/politics/senate-house-retiring-burr-shelby.html'), ('Review: The Met Opera Found an Audience for ‘Fedora.’ For Now.', 'https://www.nytimes.com/2023/01/01/arts/music/fedora-met-opera.html'), ('George Santos Goes to Washington as His Life of Fantasy Comes Into Focus ', 'https://www.nytimes.com/2023/01/01/nyregion/george-santos-congress-republican-new-york.html'), ('In a Small Arkansas City, Crime, Dread and an Emergency Curfew', 'https://www.nytimes.com/2023/01/01/us/arkansas-crime-emergency-curfew.html'), ('Idaho Murder Suspect Had Been a Student of the Criminal Mind', 'https://www.nytimes.com/2023/01/01/us/bryan-kohberger-idaho-murders.html'), ('Russian Airstrikes Pummel Ukrainian Civilians', 'https://www.nytimes.com/2023/01/01/world/europe/ukraine-russia-air-attacks.html'), ('A Toxic Stew on Cape Cod: Human Waste and Warming Water', 'https://www.nytimes.com/2023/01/01/climate/cape-cod-algae-septic.html'), ('Sept. 23: Autumn is here.', 'https://www.nytimes.com/2023/01/01/science/sept-23-autumn-is-here.html'), ('Jan. 4: Earth will be at its closest point to the sun', 'https://www.nytimes.com/article/jan-4-earth-will-be-at-its-closest-point-to-the-sun.html'), ('July 14: India may launch the Chandrayaan-3 moon mission', 'https://www.nytimes.com/article/august-or-later-india-may-launch-the-chandrayaan-3-moon-mission.html'), ('April 14: ESA’s Juice spacecraft launched to Jupiter and its moons', 'https://www.nytimes.com/article/april-5-esas-juice-spacecraft-may-launch-to-jupiter-and-its-moons.html'), ('July 21: Boeing’s Starliner capsule may finally carry a crew to the space station', 'https://www.nytimes.com/article/april-boeings-starliner-capsule-may-finally-carry-a-crew-to-the-space-station.html'), ('Jan. 3-4: The Quadrantid meteor shower will peak', 'https://www.nytimes.com/2023/01/01/science/quadrantid-meteor-shower.html'), ('How to watch meteor showers', 'https://www.nytimes.com/article/meteor-showers-how-to-see.html'), ('Feb. 1: It’s been 20 years since the Space Shuttle Columbia disaster', 'https://www.nytimes.com/article/feb-1-its-been-20-years-since-the-space-shuttle-columbia-disaster.html'), ('Nov. 15: Intuitive Machines may launch a commercial lunar lander mission', 'https://www.nytimes.com/article/intuitive-machines-moon-launch.html'), ('March 20: Spring is here.', 'https://www.nytimes.com/article/march-20-spring-is-here.html'), ('Sept. 6: Japan could launch a space telescope and a small lunar lander mission', 'https://www.nytimes.com/article/late-march-japan-could-launch-a-space-telescope-and-a-small-lunar-lander-mission.html'), ('June or later in the summer: The private Polaris Dawn mission may launch to attempt a spacewalk', 'https://www.nytimes.com/article/late-march-the-private-polaris-dawn-mission-may-launch-to-attempt-a-spacewalk.html'), ('April 20: A total solar eclipse will be visible in parts of the Asia-Pacific and Australia', 'https://www.nytimes.com/2023/01/01/science/april-20-a-total-solar-eclipse-will-be-visible-in-parts-of-the-asia-pacific-and-australia.html'), ('Watch the Lyrid Meteor Shower Peak During a New Moon', 'https://www.nytimes.com/article/lyrid-meteor-shower.html'), ('April 25: The Japanese company Ispace’s M1 spacecraft will attempt a moon landing', 'https://www.nytimes.com/article/late-april-the-japanese-company-ispaces-m1-spacecraft-may-attempt-a-moon-landing.html'), ('May or later: Rocket Lab may launch a small probe to Venus', 'https://www.nytimes.com/2023/01/01/science/may-or-later-rocket-lab-may-launch-a-small-probe-to-venus.html'), ('May 5-6: The Eta Aquariids meteor shower will peak.', 'https://www.nytimes.com/2023/01/01/science/eta-aquariids-meteor-shower.html'), ('June 21: The summer solstice', 'https://www.nytimes.com/article/june-21-the-summer-solstice.html'), ('July 6: Earth is at its farthest point from the sun', 'https://www.nytimes.com/article/july-6-earth-is-at-its-farthest-point-from-the-sun.html'), ('July 30-31: The Southern Delta Aquariids meteor shower will peak', 'https://www.nytimes.com/article/southern-delta-aquariids-meteor-shower.html'), ('Aug. 12-13: The Perseids meteor shower will peak.', 'https://www.nytimes.com/article/perseids-meteor-shower.html'), ('Sept. 24: NASA’s Osiris-rex may send a capsule of asteroid samples to Earth', 'https://www.nytimes.com/article/sept-24-nasas-osiris-rex-may-send-a-capsule-of-asteroid-samples-to-earth.html'), ('October or later: India will conduct an uncrewed test of its Gaganyaan spacecraft for astronauts', 'https://www.nytimes.com/article/october-or-later-india-will-conduct-an-uncrewed-test-of-its-gaganyaan-spacecraft-for-astronauts.html'), ('Oct 13: NASA will launch the Psyche mission to a metallic asteroid', 'https://www.nytimes.com/article/oct-10-nasa-will-launch-the-psyche-mission-to-a-metallic-asteroid.html'), ('Oct. 14: An annular solar eclipse will cross the western United States and parts of Latin America', 'https://www.nytimes.com/article/oct-14-an-annular-solar-eclipse-will-cross-the-western-united-states-and-parts-of-latin-america.html'), ('Oct. 20-21: The Orionids meteor shower will peak.', 'https://www.nytimes.com/article/orionids-meteor-shower.html'), ('Nov. 17-18: The Leonids meteor shower will peak', 'https://www.nytimes.com/article/leonids-meteor-shower.html'), ('At Inauguration, Hochul Vows to Make New York Safer and More Affordable', 'https://www.nytimes.com/2023/01/01/nyregion/hochul-inauguration-ny-governor.html'), ('December: China may launch the Xuntian space telescope', 'https://www.nytimes.com/article/december-china-may-launch-the-xuntian-space-telescope.html'), ('Dec. 2-3: The Andromedids meteor shower may make an appearance', 'https://www.nytimes.com/article/andromedids-meteor-shower.html'), ('Dec. 13-14: The Geminids meteor shower may peak', 'https://www.nytimes.com/article/geminids-meteor-shower.html'), ('Dec. 21: The winter solstice', 'https://www.nytimes.com/article/dec-21-the-winter-solstice.html'), ('Dec. 22-23: The Ursids meteor shower will peak', 'https://www.nytimes.com/article/ursid-meteor-shower.html'), ('Dec. 30: NASA’s Juno spacecraft will complete a close flyby of Io', 'https://www.nytimes.com/article/dec-30-nasas-juno-spacecraft-will-complete-a-close-flyby-of-io.html'), ('Your Monday Briefing: The Impact of a U.S. Chip-Making Boom', 'https://www.nytimes.com/2023/01/01/briefing/chips-china-us-north-korea-nuclear.html'), ('Edith Pearlman, Writer Who Won Acclaim Late in Life, Dies at 86', 'https://www.nytimes.com/2023/01/01/obituaries/edith-pearlman-dead.html'), ('Jeremiah Green, Drummer for Modest Mouse, Dies at 45', 'https://www.nytimes.com/2023/01/01/arts/music/jeremiah-green-dead.html'), ('What We Learned From Week 17 in the N.F.L.', 'https://www.nytimes.com/2023/01/01/sports/football/nfl-week-17-scores.html'), ('NYT Crossword Answers: Capital of Western Australia', 'https://www.nytimes.com/2023/01/01/crosswords/daily-puzzle-2023-01-02.html'), ('Anita Pointer, Frequent Lead Singer of Famed Sister Act, Dies at 74', 'https://www.nytimes.com/2023/01/01/obituaries/anita-pointer-dead.html'), ('California Scrambles to Recover From Storm Before the Next One Hits', 'https://www.nytimes.com/2023/01/01/us/california-storm.html'), ('California Town Rattled by Earthquake a Second Time', 'https://www.nytimes.com/2023/01/01/us/california-earthquake.html'), ('The Happiness Challenge: Take Stock of Your Relationships', 'https://www.nytimes.com/2023/01/01/well/happiness-challenge-relationships.html')]\n"
     ]
    }
   ],
   "source": [
    "[cnn_articles, nyt_articles, bi_articles, nyp_articles, dm_articles, fox_articles] = articles.articles([0,0,0,0,0,0])"
   ]
  },
  {
   "cell_type": "code",
   "execution_count": 8,
   "id": "02296371",
   "metadata": {},
   "outputs": [],
   "source": [
    "# Pandas Testing area\n",
    "import pandas as pd\n",
    "\n",
    "test_frame = pd.DataFrame()"
   ]
  }
 ],
 "metadata": {
  "kernelspec": {
   "display_name": "Python 3",
   "language": "python",
   "name": "python3"
  },
  "language_info": {
   "codemirror_mode": {
    "name": "ipython",
    "version": 3
   },
   "file_extension": ".py",
   "mimetype": "text/x-python",
   "name": "python",
   "nbconvert_exporter": "python",
   "pygments_lexer": "ipython3",
   "version": "3.10.12"
  }
 },
 "nbformat": 4,
 "nbformat_minor": 5
}
