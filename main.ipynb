{
 "cells": [
  {
   "cell_type": "markdown",
   "id": "5d153c1b-32f3-45ac-b859-08c144b3f04c",
   "metadata": {},
   "source": [
    "## News :D\n",
    "\n"
   ]
  },
  {
   "cell_type": "code",
   "execution_count": 14,
   "id": "8384fd32",
   "metadata": {},
   "outputs": [],
   "source": [
    "%load_ext autoreload\n",
    "%autoreload 2"
   ]
  },
  {
   "cell_type": "markdown",
   "id": "7b60b2c9",
   "metadata": {},
   "source": [
    "Installs:\n",
    "lxmn\n",
    "bs4"
   ]
  },
  {
   "cell_type": "code",
   "execution_count": 32,
   "id": "dd6d7347",
   "metadata": {},
   "outputs": [
    {
     "name": "stdout",
     "output_type": "stream",
     "text": [
      "[<a href=\"/article/sitemap-2011.html\">2011</a>, <a href=\"/article/sitemap-2012.html\">2012</a>, <a href=\"/article/sitemap-2013.html\">2013</a>, <a href=\"/article/sitemap-2014.html\">2014</a>, <a href=\"/article/sitemap-2015.html\">2015</a>, <a href=\"/article/sitemap-2016.html\">2016</a>, <a href=\"/article/sitemap-2017.html\">2017</a>, <a href=\"/article/sitemap-2018.html\">2018</a>, <a href=\"/article/sitemap-2019.html\">2019</a>, <a href=\"/article/sitemap-2020.html\">2020</a>, <a href=\"/article/sitemap-2021.html\">2021</a>, <a href=\"/article/sitemap-2022.html\">2022</a>, <a href=\"/article/sitemap-2023.html\">2023</a>, <a href=\"/article/sitemap-2024.html\">2024</a>]\n"
     ]
    }
   ],
   "source": [
    "import requests\n",
    "from bs4 import BeautifulSoup\n",
    "\n",
    "link = 'https://www.cnn.com/sitemap.html'\n",
    "cnn = requests.get(link)\n",
    "soup_html = BeautifulSoup(cnn.text,'html.parser')\n",
    "year_links = [i for i in soup_html.find_all('a') if '/article/' in str(i) != -1]\n",
    "print(year_links)\n",
    "\n",
    "# print(soup_html)\n",
    "\n",
    "# cnn_url = 'https://www.cnn.com/sitemap/news.xml' # shows most recent, generally up to two days back - <news:publication_date>2025-03-03T19:25:13-05:00</news:publication_date>\n",
    "# fox_url = 'https://www.foxnews.com/sitemap.xml?type=news' # \n",
    "# businessinsider_url = 'https://www.businessinsider.com/sitemap/html/2025-02.html'\n",
    "# nypost_url = 'https://nypost.com/2025/03/05/'\n",
    "# daily_mail_url = 'https://www.dailymail.co.uk/home/sitemaparchive/day_20250302.html'\n",
    "# axios_url = 'https://www.axios.com/sitemaps/last200.xml'\n",
    "# washingtonpost_url = 'https://www.washingtonpost.com/sitemap/2025/3/4/'\n",
    "# nytimes_url = 'https://www.nytimes.com/sitemap/2025/03/05/'\n",
    "# thehill_url = 'https://thehill.com/sitemap/2025/March/5/'"
   ]
  }
 ],
 "metadata": {
  "kernelspec": {
   "display_name": "Python 3",
   "language": "python",
   "name": "python3"
  },
  "language_info": {
   "codemirror_mode": {
    "name": "ipython",
    "version": 3
   },
   "file_extension": ".py",
   "mimetype": "text/x-python",
   "name": "python",
   "nbconvert_exporter": "python",
   "pygments_lexer": "ipython3",
   "version": "3.10.12"
  }
 },
 "nbformat": 4,
 "nbformat_minor": 5
}
