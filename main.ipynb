{
 "cells": [
  {
   "cell_type": "markdown",
   "id": "5d153c1b-32f3-45ac-b859-08c144b3f04c",
   "metadata": {},
   "source": [
    "## News :D\n",
    "\n"
   ]
  },
  {
   "cell_type": "code",
   "execution_count": 18,
   "id": "8384fd32",
   "metadata": {},
   "outputs": [
    {
     "name": "stdout",
     "output_type": "stream",
     "text": [
      "The autoreload extension is already loaded. To reload it, use:\n",
      "  %reload_ext autoreload\n"
     ]
    }
   ],
   "source": [
    "%load_ext autoreload\n",
    "%autoreload 2\n",
    "\n",
    "import requests\n",
    "import re # imports regex\n",
    "from bs4 import BeautifulSoup"
   ]
  },
  {
   "cell_type": "markdown",
   "id": "7b60b2c9",
   "metadata": {},
   "source": [
    "Installs:\n",
    "lxmn\n",
    "bs4"
   ]
  },
  {
   "cell_type": "code",
   "execution_count": 38,
   "id": "272f181e",
   "metadata": {},
   "outputs": [],
   "source": [
    "months = ['January', 'February','March','April','May','June','July','August','September','October','November','December']\n",
    "\n",
    "cnn_links = []\n",
    "for i in range(2014, 2024):\n",
    "    for j in range(1, 13):\n",
    "        cnn_links.append(f'https://www.cnn.com/article/sitemap-{i}-{j}.html')\n",
    "grouped_cnn_links = [[f'https://www.cnn.com/article/sitemap-{i}-{j}.html' for j in range(1,13)] for i in range(2014, 2024)]\n",
    "# print('CNN Links: ' + str(cnn_links))\n",
    "\n",
    "\n",
    "nyt_links = []\n",
    "for i in range(2014, 2024):\n",
    "    for j in range(1, 13):\n",
    "        nyt_links.append(f'https://www.nytimes.com/sitemap/{i}/{str(j).zfill(2)}/')\n",
    "grouped_nyt_links = [[f'https://www.nytimes.com/sitemap/{i}/{str(j).zfill(2)}/' for j in range(1,13)] for i in range(2014, 2024)]\n",
    "# print('New York Times Links: ' + str(nyt_links))\n",
    "\n",
    "\n",
    "bi_links = []\n",
    "for i in range(2014, 2024):\n",
    "    for j in range(1, 13):\n",
    "        bi_links.append(f'https://www.businessinsider.com/sitemap/html/{i}-{j}.html')\n",
    "grouped_bi_links = [[f'https://www.businessinsider.com/sitemap/html/{i}-{j}.html' for j in range(1,13)] for i in range(2014, 2024)]\n",
    "# print('Business Insider Links: ' + str(bi_links))\n",
    "\n",
    "\n",
    "th_links = []\n",
    "for i in range(2014, 2024):\n",
    "    for j in months:\n",
    "        th_links.append(f'https://thehill.com/sitemap/{i}/{j}')\n",
    "grouped_th_links = [[f'https://thehill.com/sitemap/{i}/{j}' for j in months] for i in range(2014, 2024)]\n",
    "# print('The Hill Links: ' + str(th_links))\n",
    "\n",
    "\n",
    "nyp_links = []\n",
    "for i in range(2014, 2024):\n",
    "    for j in range(1,13):\n",
    "        nyp_links.append(f'https://nypost.com/{i}/{str(j).zfill(2)}/')\n",
    "grouped_nyp_links = [[f'https://nypost.com/{i}/{str(j).zfill(2)}/' for j in range(1,13)] for i in range(2014, 2024)]\n",
    "# print('New York Post Links: ' + str(nyp_links))\n",
    "\n",
    "\n",
    "dm_links = []\n",
    "for i in range(2014, 2024):\n",
    "    for j in range(1,13):\n",
    "        dm_links.append(f'https://www.dailymail.co.uk/home/sitemaparchive/month_{i}{str(j).zfill(2)}/.html')\n",
    "grouped_dm_links = [[f'https://www.dailymail.co.uk/home/sitemaparchive/month_{i}{str(j).zfill(2)}/.html' for j in range(1,13)] for i in range(2014, 2024)]\n",
    "# print('Daily Mail Links: ' + str(dm_links))\n",
    "\n",
    "\n",
    "fox_links = ['https://www.foxnews.com/sitemap.xml?type=articles'] + [f'https://www.foxnews.com/sitemap.xml?type=articles&page={i}' for i in range(2, 161)]\n",
    "# print(fox_links)"
   ]
  }
 ],
 "metadata": {
  "kernelspec": {
   "display_name": "Python 3",
   "language": "python",
   "name": "python3"
  },
  "language_info": {
   "codemirror_mode": {
    "name": "ipython",
    "version": 3
   },
   "file_extension": ".py",
   "mimetype": "text/x-python",
   "name": "python",
   "nbconvert_exporter": "python",
   "pygments_lexer": "ipython3",
   "version": "3.10.12"
  }
 },
 "nbformat": 4,
 "nbformat_minor": 5
}
