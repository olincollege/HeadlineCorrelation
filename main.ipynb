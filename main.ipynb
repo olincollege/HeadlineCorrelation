{
 "cells": [
  {
   "cell_type": "markdown",
   "id": "5d153c1b-32f3-45ac-b859-08c144b3f04c",
   "metadata": {},
   "source": [
    "## News :D\n",
    "\n"
   ]
  },
  {
   "cell_type": "code",
   "execution_count": 28,
   "id": "8384fd32",
   "metadata": {},
   "outputs": [
    {
     "name": "stdout",
     "output_type": "stream",
     "text": [
      "The autoreload extension is already loaded. To reload it, use:\n",
      "  %reload_ext autoreload\n"
     ]
    }
   ],
   "source": [
    "%load_ext autoreload\n",
    "%autoreload 2\n",
    "\n",
    "import requests\n",
    "import re \n",
    "import itertools\n",
    "from bs4 import BeautifulSoup # Imports bs4\n",
    "import wget # Imports wget\n",
    "import articles\n",
    "import sitemaps"
   ]
  },
  {
   "cell_type": "markdown",
   "id": "7b60b2c9",
   "metadata": {},
   "source": [
    "# Data\n",
    "\n",
    "### Data formats\n",
    "\n",
    "CNN has links by month\n",
    "\n",
    "NYT has links by day\n",
    "\n",
    "BI has links by month\n",
    "\n",
    "TH has links by day\n",
    "\n",
    "NYP has links by day\n",
    "\n",
    "DM has links by day\n",
    "\n",
    "Fox has links by page num\n",
    "\n",
    "### Thoughts on how to organize the data \n",
    "\n",
    "we use a pandas dataframe organized like this\n",
    "\n",
    "| Dates | CNN | NYT | BI | TH | NYP | DM | FOX |\n",
    "| ----------- | ------------------------------------------ | ------- | ------- | ------- | ------- | ------- | ------- |\n",
    "| 2014-01-01  | list of tuples with article link & title   | ... | ... | ... | ... | ... | ... |\n",
    "| 2014-01-02  | ... | ... | ... | ... | ... | ... | ... |\n",
    "| 2014-01-03  | ... | ... | ... | ... | ... | ... | ... |\n",
    "| 2014-01-04  | ... | ... | ... | ... | ... | ... | ... |\n",
    "| ...         | ... | ... | ... | ... | ... | ... | ... |\n",
    "| 2024-12-31  | ... | ... | ... | ... | ... | ... | ... |"
   ]
  },
  {
   "cell_type": "markdown",
   "id": "b569767c",
   "metadata": {},
   "source": [
    "### Code to get data\n",
    "CNN:\n",
    "```html\n",
    "<li>\n",
    "    <span class=\"date\">2024-01-31</span>\n",
    "    <span class=\"sitemap-link\">\n",
    "        <a href=\"https://www.cnn.com/tech/live-news/meta-x-discord-tiktok-snap-chiefs-testimony-senate/index.html\">\n",
    "            Mark Zuckerberg apologizes to families over social media harms in contentious Senate hearing\n",
    "        </a>\n",
    "    </span>\n",
    "</li>\n",
    "```\n",
    "\n",
    "NYT:\n",
    "```html\n",
    "<li>\n",
    "    <a href=\"https://www.nytimes.com/2023/12/31/business/dealbook/pga-tour-saudi-deal-deadline.html\">\n",
    "        PGA Tour and Saudi-Backed LIV Extend Deadline to Finalize Deal\n",
    "    </a>\n",
    "</li>\n",
    "```\n",
    "\n",
    "BI:\n",
    "```html\n",
    "<p>\n",
    "    <a href=\"https://www.businessinsider.com/feud-capote-vs-swans-ann-woodward-suicide-death-real-story-2024-1\">\n",
    "        The real story behind the suicide of American socialite Ann Woodward in &#39;Feud: Capote vs. The Swans&#39;\n",
    "    </a>\n",
    "    <br>2024-02-01T03:31:01.68Z\n",
    "</p>\n",
    "```\n",
    "\n",
    "NYP:\n",
    "```html\n",
    "<h3 class=\"story__headline headline headline--archive\">\n",
    "    <a href=\"https://nypost.com/2024/01/01/sports/og-anunoby-trending-toward-the-perfect-piece-for-knicks/\" rel=\"\" target=\"_self\">\n",
    "\t\tKnicks&#039; big trade acquisition already looks like the &#039;perfect fit&#039; \t\t\t\t\t\t\t\t\t\t\t\t\n",
    "    </a>\n",
    "</h3>\n",
    "```\n",
    "\n",
    "DM:\n",
    "```html\n",
    "<a href=\"/wires/ap/article-12917573/Christian-McCaffrey-miss-49ers-regular-season-finale-return-playoffs.html\" title=\"\">\n",
    "    Christian McCaffrey will miss the 49ers regular-season finale but should return for playoffs\n",
    "</a>\n",
    "```\n",
    "\n",
    "FOX:\n",
    "```html\n",
    "<loc>\n",
    "    https://www.foxnews.com/opinion/why-the-department-of-education-is-going-to-rip\n",
    "</loc>\n",
    "<lastmod>\n",
    "    2025-03-12T05:00:54-04:00\n",
    "</lastmod>\n",
    "```"
   ]
  },
  {
   "cell_type": "code",
   "execution_count": 29,
   "id": "0573d3c7",
   "metadata": {},
   "outputs": [],
   "source": [
    "[cnn_dict, nyt_dict, bi_dict, nyp_dict, dm_dict, fox_links] = sitemaps.sitemaps()"
   ]
  },
  {
   "cell_type": "code",
   "execution_count": 59,
   "id": "e6073922",
   "metadata": {},
   "outputs": [],
   "source": [
    "start_year = 2020\n",
    "end_year = 2020\n",
    "start_month = 1\n",
    "end_month = 1\n",
    "news = [0,0,0,0,0,0] # determines which news sources we scrape (for testing)       0 = don't   1 = do       CNN, NYT, BI, NYP, DM, FOX\n",
    "\n",
    "[cnn_articles, nyt_articles, bi_articles, nyp_articles, dm_articles, fox_articles] = articles.articles(news,start_year,end_year,start_month,end_month)\n"
   ]
  },
  {
   "cell_type": "code",
   "execution_count": null,
   "id": "02296371",
   "metadata": {},
   "outputs": [],
   "source": [
    "# Pandas Testing area\n",
    "import pandas as pd\n",
    "import numpy as np\n",
    "\n",
    "mday = [31, 28, 31, 30, 31, 30, 31, 31, 30, 31, 30, 31]\n",
    "\n",
    "news_names = ['CNN', 'NYT', 'BI', 'NYP', 'DM', 'FOX']\n",
    "temp_news_names = ['CNN', 'NYT', 'BI']\n",
    "news_data = {}\n",
    "example_data = {}\n",
    "\n",
    "for year in range(start_year,end_year+1):\n",
    "    for month in range(start_month,end_month+1):\n",
    "        for day in range(mday[month-1]):\n",
    "            news_data[f\"{year}/{str(month).zfill(2)}/{str(day+1).zfill(2)}\"] = [\n",
    "                cnn_articles[f\"{year}-{str(month).zfill(2)}-{str(day+1).zfill(2)}\"],\n",
    "                nyt_articles[f\"{year}-{str(month).zfill(2)}-{str(day+1).zfill(2)}\"],\n",
    "                bi_articles[f\"{year}-{str(month).zfill(2)}-{str(day+1).zfill(2)}\"]\n",
    "            ]\n",
    "            example_data[f\"{year}/{str(month).zfill(2)}/{str(day+1).zfill(2)}\"] = [\n",
    "                'list',\n",
    "                'list',\n",
    "                'list',\n",
    "                'list',\n",
    "                'list',\n",
    "                'list'\n",
    "            ]\n",
    "\n",
    "test_frame = pd.DataFrame(news_data, index=temp_news_names).T\n",
    "example_test_frame = pd.DataFrame(example_data, index=news_names).T\n",
    "\n",
    "print(test_frame)\n",
    "print(example_test_frame)"
   ]
  }
 ],
 "metadata": {
  "kernelspec": {
   "display_name": "base",
   "language": "python",
   "name": "python3"
  },
  "language_info": {
   "codemirror_mode": {
    "name": "ipython",
    "version": 3
   },
   "file_extension": ".py",
   "mimetype": "text/x-python",
   "name": "python",
   "nbconvert_exporter": "python",
   "pygments_lexer": "ipython3",
   "version": "3.12.7"
  }
 },
 "nbformat": 4,
 "nbformat_minor": 5
}
