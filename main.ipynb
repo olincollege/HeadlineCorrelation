{
 "cells": [
  {
   "cell_type": "markdown",
   "id": "5d153c1b-32f3-45ac-b859-08c144b3f04c",
   "metadata": {},
   "source": [
    "## News :D\n",
    "\n"
   ]
  },
  {
   "cell_type": "code",
   "execution_count": 2,
   "id": "8384fd32",
   "metadata": {},
   "outputs": [],
   "source": [
    "%load_ext autoreload\n",
    "%autoreload 2\n",
    "\n",
    "import requests\n",
    "import re\n",
    "import itertools\n",
    "from bs4 import BeautifulSoup"
   ]
  },
  {
   "cell_type": "markdown",
   "id": "7b60b2c9",
   "metadata": {},
   "source": [
    "Installs:\n",
    "lxmn\n",
    "bs4"
   ]
  },
  {
   "cell_type": "code",
   "execution_count": 11,
   "id": "a299259c",
   "metadata": {},
   "outputs": [],
   "source": [
    "months = ['January', 'February','March','April','May','June','July','August','September','October','November','December']\n",
    "\n",
    "\n",
    "# CNN                                  has all articles\n",
    "cnn_dict = dict([(i, [f'https://www.cnn.com/article/sitemap-{i}-{j}.html' for j in range(1,13)]) for i in range(2014,2025)])\n",
    "\n",
    "\n",
    "# New York Times                       has days\n",
    "nyt_dict = dict([(i, [f'https://www.nytimes.com/sitemap/{i}/{str(j).zfill(2)}/' for j in range(1,13)]) for i in range(2014,2025)])\n",
    "\n",
    "\n",
    "# Business Insider                     has all articles\n",
    "bi_dict = dict([(i, [f'https://www.businessinsider.com/sitemap/html/{i}-{str(j).zfill(2)}.html' for j in range(1,13)]) for i in range(2014,2025)])\n",
    "\n",
    "\n",
    "# The Hill                             has days\n",
    "th_dict = dict([(i, [f'https://thehill.com/sitemap/{i}/{j}/' for j in months]) for i in range(2014,2025)])\n",
    "\n",
    "\n",
    "# New York Post                        has days\n",
    "nyp_dict = dict([(i, [f'https://nypost.com/{i}/{str(j).zfill(2)}/' for j in range(1,13)]) for i in range(2014,2025)])\n",
    "\n",
    "\n",
    "# Daily Mail                           has days\n",
    "dm_dict = dict([(i, [f'https://www.dailymail.co.uk/home/sitemaparchive/month_{i}{str(j).zfill(2)}.html' for j in range(1,13)]) for i in range(2014,2025)])\n",
    "\n",
    "\n",
    "# Fox\n",
    "fox_links = ['https://www.foxnews.com/sitemap.xml?type=articles'] + [f'https://www.foxnews.com/sitemap.xml?type=articles&page={i}' for i in range(2, 161)]"
   ]
  },
  {
   "cell_type": "code",
   "execution_count": 12,
   "id": "e6073922",
   "metadata": {},
   "outputs": [
    {
     "name": "stdout",
     "output_type": "stream",
     "text": [
      "['https://www.cnn.com/article/sitemap-2024-1.html', 'https://www.cnn.com/article/sitemap-2024-2.html', 'https://www.cnn.com/article/sitemap-2024-3.html', 'https://www.cnn.com/article/sitemap-2024-4.html', 'https://www.cnn.com/article/sitemap-2024-5.html', 'https://www.cnn.com/article/sitemap-2024-6.html', 'https://www.cnn.com/article/sitemap-2024-7.html', 'https://www.cnn.com/article/sitemap-2024-8.html', 'https://www.cnn.com/article/sitemap-2024-9.html', 'https://www.cnn.com/article/sitemap-2024-10.html', 'https://www.cnn.com/article/sitemap-2024-11.html', 'https://www.cnn.com/article/sitemap-2024-12.html']\n",
      "['https://www.nytimes.com/sitemap/2024/01/', 'https://www.nytimes.com/sitemap/2024/02/', 'https://www.nytimes.com/sitemap/2024/03/', 'https://www.nytimes.com/sitemap/2024/04/', 'https://www.nytimes.com/sitemap/2024/05/', 'https://www.nytimes.com/sitemap/2024/06/', 'https://www.nytimes.com/sitemap/2024/07/', 'https://www.nytimes.com/sitemap/2024/08/', 'https://www.nytimes.com/sitemap/2024/09/', 'https://www.nytimes.com/sitemap/2024/10/', 'https://www.nytimes.com/sitemap/2024/11/', 'https://www.nytimes.com/sitemap/2024/12/']\n",
      "['https://www.businessinsider.com/sitemap/html/2024-01.html', 'https://www.businessinsider.com/sitemap/html/2024-02.html', 'https://www.businessinsider.com/sitemap/html/2024-03.html', 'https://www.businessinsider.com/sitemap/html/2024-04.html', 'https://www.businessinsider.com/sitemap/html/2024-05.html', 'https://www.businessinsider.com/sitemap/html/2024-06.html', 'https://www.businessinsider.com/sitemap/html/2024-07.html', 'https://www.businessinsider.com/sitemap/html/2024-08.html', 'https://www.businessinsider.com/sitemap/html/2024-09.html', 'https://www.businessinsider.com/sitemap/html/2024-10.html', 'https://www.businessinsider.com/sitemap/html/2024-11.html', 'https://www.businessinsider.com/sitemap/html/2024-12.html']\n",
      "['https://thehill.com/sitemap/2024/January/', 'https://thehill.com/sitemap/2024/February/', 'https://thehill.com/sitemap/2024/March/', 'https://thehill.com/sitemap/2024/April/', 'https://thehill.com/sitemap/2024/May/', 'https://thehill.com/sitemap/2024/June/', 'https://thehill.com/sitemap/2024/July/', 'https://thehill.com/sitemap/2024/August/', 'https://thehill.com/sitemap/2024/September/', 'https://thehill.com/sitemap/2024/October/', 'https://thehill.com/sitemap/2024/November/', 'https://thehill.com/sitemap/2024/December/']\n",
      "['https://nypost.com/2024/01/', 'https://nypost.com/2024/02/', 'https://nypost.com/2024/03/', 'https://nypost.com/2024/04/', 'https://nypost.com/2024/05/', 'https://nypost.com/2024/06/', 'https://nypost.com/2024/07/', 'https://nypost.com/2024/08/', 'https://nypost.com/2024/09/', 'https://nypost.com/2024/10/', 'https://nypost.com/2024/11/', 'https://nypost.com/2024/12/']\n",
      "['https://www.dailymail.co.uk/home/sitemaparchive/month_202401.html', 'https://www.dailymail.co.uk/home/sitemaparchive/month_202402.html', 'https://www.dailymail.co.uk/home/sitemaparchive/month_202403.html', 'https://www.dailymail.co.uk/home/sitemaparchive/month_202404.html', 'https://www.dailymail.co.uk/home/sitemaparchive/month_202405.html', 'https://www.dailymail.co.uk/home/sitemaparchive/month_202406.html', 'https://www.dailymail.co.uk/home/sitemaparchive/month_202407.html', 'https://www.dailymail.co.uk/home/sitemaparchive/month_202408.html', 'https://www.dailymail.co.uk/home/sitemaparchive/month_202409.html', 'https://www.dailymail.co.uk/home/sitemaparchive/month_202410.html', 'https://www.dailymail.co.uk/home/sitemaparchive/month_202411.html', 'https://www.dailymail.co.uk/home/sitemaparchive/month_202412.html']\n"
     ]
    }
   ],
   "source": [
    "print(cnn_dict[2024])\n",
    "print(nyt_dict[2024])\n",
    "print(bi_dict[2024])\n",
    "print(th_dict[2024])\n",
    "print(nyp_dict[2024])\n",
    "print(dm_dict[2024])"
   ]
  }
 ],
 "metadata": {
  "kernelspec": {
   "display_name": "Python 3",
   "language": "python",
   "name": "python3"
  },
  "language_info": {
   "codemirror_mode": {
    "name": "ipython",
    "version": 3
   },
   "file_extension": ".py",
   "mimetype": "text/x-python",
   "name": "python",
   "nbconvert_exporter": "python",
   "pygments_lexer": "ipython3",
   "version": "3.10.12"
  }
 },
 "nbformat": 4,
 "nbformat_minor": 5
}
